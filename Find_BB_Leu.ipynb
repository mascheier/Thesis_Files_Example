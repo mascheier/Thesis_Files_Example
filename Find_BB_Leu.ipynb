{
 "cells": [
  {
   "cell_type": "code",
   "execution_count": 1,
   "id": "regional-palestinian",
   "metadata": {},
   "outputs": [],
   "source": [
    "import pandas as pd\n",
    "import mdtraj as md"
   ]
  },
  {
   "cell_type": "code",
   "execution_count": 2,
   "id": "editorial-pride",
   "metadata": {},
   "outputs": [],
   "source": [
    "pdb = md.load_pdb('Neutral_Na_Leu.pdb')"
   ]
  },
  {
   "cell_type": "code",
   "execution_count": 3,
   "id": "caring-assistant",
   "metadata": {},
   "outputs": [
    {
     "data": {
      "text/plain": [
       "<mdtraj.Trajectory with 1 frames, 260280 atoms, 16680 residues, without unitcells at 0x7f7111125e90>"
      ]
     },
     "execution_count": 3,
     "metadata": {},
     "output_type": "execute_result"
    }
   ],
   "source": [
    "pdb"
   ]
  },
  {
   "cell_type": "code",
   "execution_count": 4,
   "id": "charming-concern",
   "metadata": {},
   "outputs": [
    {
     "data": {
      "text/plain": [
       "array([     0,      4,     17, ..., 259481, 259497, 259498])"
      ]
     },
     "execution_count": 4,
     "metadata": {},
     "output_type": "execute_result"
    }
   ],
   "source": [
    "pdb.topology.select('backbone')"
   ]
  },
  {
   "cell_type": "code",
   "execution_count": 5,
   "id": "modified-military",
   "metadata": {},
   "outputs": [],
   "source": [
    "backbone_selection = pdb.topology.select('backbone')"
   ]
  },
  {
   "cell_type": "code",
   "execution_count": 6,
   "id": "vital-brown",
   "metadata": {},
   "outputs": [],
   "source": [
    "Cap_BB_atoms_list_Leu = pd.DataFrame(pdb.topology.select('backbone'))"
   ]
  },
  {
   "cell_type": "code",
   "execution_count": 7,
   "id": "opponent-nevada",
   "metadata": {},
   "outputs": [
    {
     "data": {
      "text/html": [
       "<div>\n",
       "<style scoped>\n",
       "    .dataframe tbody tr th:only-of-type {\n",
       "        vertical-align: middle;\n",
       "    }\n",
       "\n",
       "    .dataframe tbody tr th {\n",
       "        vertical-align: top;\n",
       "    }\n",
       "\n",
       "    .dataframe thead th {\n",
       "        text-align: right;\n",
       "    }\n",
       "</style>\n",
       "<table border=\"1\" class=\"dataframe\">\n",
       "  <thead>\n",
       "    <tr style=\"text-align: right;\">\n",
       "      <th></th>\n",
       "      <th>0</th>\n",
       "    </tr>\n",
       "  </thead>\n",
       "  <tbody>\n",
       "    <tr>\n",
       "      <th>0</th>\n",
       "      <td>0</td>\n",
       "    </tr>\n",
       "    <tr>\n",
       "      <th>1</th>\n",
       "      <td>4</td>\n",
       "    </tr>\n",
       "    <tr>\n",
       "      <th>2</th>\n",
       "      <td>17</td>\n",
       "    </tr>\n",
       "    <tr>\n",
       "      <th>3</th>\n",
       "      <td>18</td>\n",
       "    </tr>\n",
       "    <tr>\n",
       "      <th>4</th>\n",
       "      <td>19</td>\n",
       "    </tr>\n",
       "    <tr>\n",
       "      <th>...</th>\n",
       "      <td>...</td>\n",
       "    </tr>\n",
       "    <tr>\n",
       "      <th>63595</th>\n",
       "      <td>259478</td>\n",
       "    </tr>\n",
       "    <tr>\n",
       "      <th>63596</th>\n",
       "      <td>259479</td>\n",
       "    </tr>\n",
       "    <tr>\n",
       "      <th>63597</th>\n",
       "      <td>259481</td>\n",
       "    </tr>\n",
       "    <tr>\n",
       "      <th>63598</th>\n",
       "      <td>259497</td>\n",
       "    </tr>\n",
       "    <tr>\n",
       "      <th>63599</th>\n",
       "      <td>259498</td>\n",
       "    </tr>\n",
       "  </tbody>\n",
       "</table>\n",
       "<p>63600 rows × 1 columns</p>\n",
       "</div>"
      ],
      "text/plain": [
       "            0\n",
       "0           0\n",
       "1           4\n",
       "2          17\n",
       "3          18\n",
       "4          19\n",
       "...       ...\n",
       "63595  259478\n",
       "63596  259479\n",
       "63597  259481\n",
       "63598  259497\n",
       "63599  259498\n",
       "\n",
       "[63600 rows x 1 columns]"
      ]
     },
     "execution_count": 7,
     "metadata": {},
     "output_type": "execute_result"
    }
   ],
   "source": [
    "Cap_BB_atoms_list_Leu"
   ]
  },
  {
   "cell_type": "code",
   "execution_count": 8,
   "id": "juvenile-address",
   "metadata": {},
   "outputs": [],
   "source": [
    "Cap_BB_atoms_list_Leu.to_csv('CapBBatomList.csv', index = False)"
   ]
  },
  {
   "cell_type": "code",
   "execution_count": null,
   "id": "median-stations",
   "metadata": {},
   "outputs": [],
   "source": []
  }
 ],
 "metadata": {
  "kernelspec": {
   "display_name": "Python 3",
   "language": "python",
   "name": "python3"
  },
  "language_info": {
   "codemirror_mode": {
    "name": "ipython",
    "version": 3
   },
   "file_extension": ".py",
   "mimetype": "text/x-python",
   "name": "python",
   "nbconvert_exporter": "python",
   "pygments_lexer": "ipython3",
   "version": "3.7.9"
  }
 },
 "nbformat": 4,
 "nbformat_minor": 5
}
