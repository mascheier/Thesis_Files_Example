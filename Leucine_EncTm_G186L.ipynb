{
 "cells": [
  {
   "cell_type": "code",
   "execution_count": 1,
   "metadata": {},
   "outputs": [],
   "source": [
    "from pymol import cmd"
   ]
  },
  {
   "cell_type": "code",
   "execution_count": 2,
   "metadata": {
    "scrolled": true
   },
   "outputs": [
    {
     "name": "stdout",
     "output_type": "stream",
     "text": [
      " PyMOL not running, entering library mode (experimental)\n"
     ]
    }
   ],
   "source": [
    "# Load in and unpack capsid, delete original\n",
    "# 7k5w_bioassembly1_0001 - 7k5w_bioassembly1_0060\n",
    "cmd.load('7k5w_bioassembly1.pdb')\n",
    "cmd.split_states('7k5w_bioassembly1')\n",
    "cmd.delete('7k5w_bioassembly1')"
   ]
  },
  {
   "cell_type": "code",
   "execution_count": 3,
   "metadata": {},
   "outputs": [],
   "source": [
    "# Specify the folder in which the input files are\n",
    "Mutant_Folder = \"Leucine_EncTm_G186L\""
   ]
  },
  {
   "cell_type": "code",
   "execution_count": 4,
   "metadata": {},
   "outputs": [],
   "source": [
    "cmd.load(Mutant_Folder + \"/\" + \"rank_1_model_5_ptm_seed_0_unrelaxed.pdb\")"
   ]
  },
  {
   "cell_type": "code",
   "execution_count": 5,
   "metadata": {},
   "outputs": [],
   "source": [
    "## will copy the object \"trna\" into six new objects with a number suffic\n",
    "s = range(61)\n",
    "for x in s:\n",
    "    cmd.copy(\"rank_1_model_5_ptm_seed_0_unrelaxed_%s\" %x, \"rank_1_model_5_ptm_seed_0_unrelaxed\")"
   ]
  },
  {
   "cell_type": "code",
   "execution_count": 6,
   "metadata": {},
   "outputs": [],
   "source": [
    "cmd.delete('rank_1_model_5_ptm_seed_0_unrelaxed')\n",
    "cmd.delete('rank_1_model_5_ptm_seed_0_unrelaxed_0')\n",
    "## rank_1_model_5_ptm_seed_0_unrelaxed_1 - rank_1_model_5_ptm_seed_0_unrelaxed_60"
   ]
  },
  {
   "cell_type": "code",
   "execution_count": 7,
   "metadata": {},
   "outputs": [],
   "source": [
    "for i in range(1, 10):\n",
    "    cmd.align('rank_1_model_5_ptm_seed_0_unrelaxed_' + str(i),\n",
    "          '7k5w_bioassembly1_000' + str(i),\n",
    "          mobile_state= 1)"
   ]
  },
  {
   "cell_type": "code",
   "execution_count": 8,
   "metadata": {},
   "outputs": [],
   "source": [
    "for i in range(10, 61):\n",
    "    cmd.align('rank_1_model_5_ptm_seed_0_unrelaxed_' + str(i),\n",
    "          '7k5w_bioassembly1_00' + str(i),\n",
    "          mobile_state= 1)"
   ]
  },
  {
   "cell_type": "code",
   "execution_count": 9,
   "metadata": {},
   "outputs": [],
   "source": [
    "for i in range(1, 10):\n",
    "    cmd.delete('7k5w_bioassembly1_000' + str(i))\n",
    "for i in range(10, 61):\n",
    "    cmd.delete('7k5w_bioassembly1_00' + str(i))"
   ]
  },
  {
   "cell_type": "code",
   "execution_count": 10,
   "metadata": {},
   "outputs": [],
   "source": [
    "# Save out the 60-mer\n",
    "cmd.save(Mutant_Folder + \"/\" + 'EncTm_G186L.pdb')"
   ]
  },
  {
   "cell_type": "code",
   "execution_count": 11,
   "metadata": {},
   "outputs": [],
   "source": [
    "# Save out the 60-mer PDBx/mmCIF\n",
    "cmd.save(Mutant_Folder + \"/\" + 'EncTm_G186L.cif')"
   ]
  },
  {
   "cell_type": "code",
   "execution_count": null,
   "metadata": {},
   "outputs": [],
   "source": []
  }
 ],
 "metadata": {
  "kernelspec": {
   "display_name": "Python 3",
   "language": "python",
   "name": "python3"
  },
  "language_info": {
   "codemirror_mode": {
    "name": "ipython",
    "version": 3
   },
   "file_extension": ".py",
   "mimetype": "text/x-python",
   "name": "python",
   "nbconvert_exporter": "python",
   "pygments_lexer": "ipython3",
   "version": "3.7.6"
  }
 },
 "nbformat": 4,
 "nbformat_minor": 4
}
