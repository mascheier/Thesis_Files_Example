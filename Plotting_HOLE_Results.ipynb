{
 "cells": [
  {
   "cell_type": "markdown",
   "id": "little-bulgaria",
   "metadata": {},
   "source": [
    "## Imports"
   ]
  },
  {
   "cell_type": "code",
   "execution_count": 1,
   "id": "provincial-treatment",
   "metadata": {},
   "outputs": [],
   "source": [
    "import mdtraj as md\n",
    "import pandas as pd\n",
    "import numpy as np\n",
    "import matplotlib.pyplot as plt\n",
    "%matplotlib inline"
   ]
  },
  {
   "cell_type": "markdown",
   "id": "assigned-camel",
   "metadata": {},
   "source": [
    "## Data In"
   ]
  },
  {
   "cell_type": "code",
   "execution_count": 2,
   "id": "wired-product",
   "metadata": {},
   "outputs": [],
   "source": [
    "# specify folder\n",
    "Pore_1 = \"P1\"\n",
    "Pore_2 = \"P2\"\n",
    "Pore_3 = \"P3\"\n",
    "Pore_4 = \"P4\"\n",
    "Pore_5 = \"P5\"\n",
    "Pore_6 = \"P6\""
   ]
  },
  {
   "cell_type": "code",
   "execution_count": 3,
   "id": "frozen-viking",
   "metadata": {},
   "outputs": [],
   "source": [
    "# read in .tsv file\n",
    "df_1 = pd.read_csv((Pore_1 + \"/\" + \"hole_out_1.tsv\"), sep = '\\t', header=None)\n",
    "df_2 = pd.read_csv((Pore_2 + \"/\" + \"hole_out_2.tsv\"), sep = '\\t', header=None)\n",
    "df_3 = pd.read_csv((Pore_3 + \"/\" + \"hole_out_3.tsv\"), sep = '\\t', header=None)\n",
    "df_4 = pd.read_csv((Pore_4 + \"/\" + \"hole_out_4.tsv\"), sep = '\\t', header=None)\n",
    "df_5 = pd.read_csv((Pore_5 + \"/\" + \"hole_out_5.tsv\"), sep = '\\t', header=None)\n",
    "df_6 = pd.read_csv((Pore_6 + \"/\" + \"hole_out_6.tsv\"), sep = '\\t', header=None)"
   ]
  },
  {
   "cell_type": "code",
   "execution_count": 4,
   "id": "contained-avenue",
   "metadata": {},
   "outputs": [],
   "source": [
    "# split single column into multiple\n",
    "df_1 = df_1[0].str.split( '    *', expand=True)\n",
    "df_2 = df_2[0].str.split( '    *', expand=True)\n",
    "df_3 = df_3[0].str.split( '    *', expand=True)\n",
    "df_4 = df_4[0].str.split( '    *', expand=True)\n",
    "df_5 = df_5[0].str.split( '    *', expand=True)\n",
    "df_6 = df_6[0].str.split( '    *', expand=True)"
   ]
  },
  {
   "cell_type": "markdown",
   "id": "significant-hostel",
   "metadata": {},
   "source": [
    "#### Convert values into floats for plotting"
   ]
  },
  {
   "cell_type": "code",
   "execution_count": 5,
   "id": "pretty-attack",
   "metadata": {},
   "outputs": [
    {
     "ename": "ValueError",
     "evalue": "Unable to parse string \"0.00020 (mid-point)\" at position 1",
     "output_type": "error",
     "traceback": [
      "\u001b[0;31m---------------------------------------------------------------------------\u001b[0m",
      "\u001b[0;31mValueError\u001b[0m                                Traceback (most recent call last)",
      "\u001b[0;32mpandas/_libs/lib.pyx\u001b[0m in \u001b[0;36mpandas._libs.lib.maybe_convert_numeric\u001b[0;34m()\u001b[0m\n",
      "\u001b[0;31mValueError\u001b[0m: Unable to parse string \"0.00020 (mid-point)\"",
      "\nDuring handling of the above exception, another exception occurred:\n",
      "\u001b[0;31mValueError\u001b[0m                                Traceback (most recent call last)",
      "\u001b[0;32m<ipython-input-5-892f236c83c7>\u001b[0m in \u001b[0;36m<module>\u001b[0;34m\u001b[0m\n\u001b[1;32m      1\u001b[0m \u001b[0;31m#P1\u001b[0m\u001b[0;34m\u001b[0m\u001b[0;34m\u001b[0m\u001b[0;34m\u001b[0m\u001b[0m\n\u001b[0;32m----> 2\u001b[0;31m \u001b[0mx1\u001b[0m \u001b[0;34m=\u001b[0m \u001b[0mpd\u001b[0m\u001b[0;34m.\u001b[0m\u001b[0mto_numeric\u001b[0m\u001b[0;34m(\u001b[0m\u001b[0mdf_1\u001b[0m\u001b[0;34m[\u001b[0m\u001b[0;36m3\u001b[0m\u001b[0;34m]\u001b[0m\u001b[0;34m)\u001b[0m\u001b[0;34m\u001b[0m\u001b[0;34m\u001b[0m\u001b[0m\n\u001b[0m\u001b[1;32m      3\u001b[0m \u001b[0my1\u001b[0m \u001b[0;34m=\u001b[0m \u001b[0mpd\u001b[0m\u001b[0;34m.\u001b[0m\u001b[0mto_numeric\u001b[0m\u001b[0;34m(\u001b[0m\u001b[0mdf_1\u001b[0m\u001b[0;34m[\u001b[0m\u001b[0;36m2\u001b[0m\u001b[0;34m]\u001b[0m\u001b[0;34m)\u001b[0m\u001b[0;34m\u001b[0m\u001b[0;34m\u001b[0m\u001b[0m\n",
      "\u001b[0;32m~/anaconda3/envs/md/lib/python3.7/site-packages/pandas/core/tools/numeric.py\u001b[0m in \u001b[0;36mto_numeric\u001b[0;34m(arg, errors, downcast)\u001b[0m\n\u001b[1;32m    153\u001b[0m         \u001b[0;32mtry\u001b[0m\u001b[0;34m:\u001b[0m\u001b[0;34m\u001b[0m\u001b[0;34m\u001b[0m\u001b[0m\n\u001b[1;32m    154\u001b[0m             values = lib.maybe_convert_numeric(\n\u001b[0;32m--> 155\u001b[0;31m                 \u001b[0mvalues\u001b[0m\u001b[0;34m,\u001b[0m \u001b[0mset\u001b[0m\u001b[0;34m(\u001b[0m\u001b[0;34m)\u001b[0m\u001b[0;34m,\u001b[0m \u001b[0mcoerce_numeric\u001b[0m\u001b[0;34m=\u001b[0m\u001b[0mcoerce_numeric\u001b[0m\u001b[0;34m\u001b[0m\u001b[0;34m\u001b[0m\u001b[0m\n\u001b[0m\u001b[1;32m    156\u001b[0m             )\n\u001b[1;32m    157\u001b[0m         \u001b[0;32mexcept\u001b[0m \u001b[0;34m(\u001b[0m\u001b[0mValueError\u001b[0m\u001b[0;34m,\u001b[0m \u001b[0mTypeError\u001b[0m\u001b[0;34m)\u001b[0m\u001b[0;34m:\u001b[0m\u001b[0;34m\u001b[0m\u001b[0;34m\u001b[0m\u001b[0m\n",
      "\u001b[0;32mpandas/_libs/lib.pyx\u001b[0m in \u001b[0;36mpandas._libs.lib.maybe_convert_numeric\u001b[0;34m()\u001b[0m\n",
      "\u001b[0;31mValueError\u001b[0m: Unable to parse string \"0.00020 (mid-point)\" at position 1"
     ]
    }
   ],
   "source": [
    "#P1\n",
    "x1 = pd.to_numeric(df_1[3])\n",
    "y1 = pd.to_numeric(df_1[2])"
   ]
  },
  {
   "cell_type": "code",
   "execution_count": 6,
   "id": "virgin-calvin",
   "metadata": {},
   "outputs": [],
   "source": [
    "#P2\n",
    "x2 = pd.to_numeric(df_2[3])\n",
    "y2 = pd.to_numeric(df_2[2])"
   ]
  },
  {
   "cell_type": "code",
   "execution_count": 7,
   "id": "parliamentary-worship",
   "metadata": {},
   "outputs": [],
   "source": [
    "#P3\n",
    "x3 = pd.to_numeric(df_3[3])\n",
    "y3 = pd.to_numeric(df_3[2])"
   ]
  },
  {
   "cell_type": "code",
   "execution_count": 8,
   "id": "pacific-exchange",
   "metadata": {},
   "outputs": [],
   "source": [
    "#P4\n",
    "x4 = pd.to_numeric(df_4[3])\n",
    "y4 = pd.to_numeric(df_4[2])"
   ]
  },
  {
   "cell_type": "code",
   "execution_count": 9,
   "id": "falling-wiring",
   "metadata": {},
   "outputs": [],
   "source": [
    "#P5\n",
    "x5 = pd.to_numeric(df_5[3])\n",
    "y5 = pd.to_numeric(df_5[2])"
   ]
  },
  {
   "cell_type": "code",
   "execution_count": 10,
   "id": "premium-escape",
   "metadata": {},
   "outputs": [],
   "source": [
    "#P6\n",
    "x6 = pd.to_numeric(df_6[3])\n",
    "y6 = pd.to_numeric(df_6[2])"
   ]
  },
  {
   "cell_type": "markdown",
   "id": "traditional-royal",
   "metadata": {},
   "source": [
    "## Plot"
   ]
  },
  {
   "cell_type": "code",
   "execution_count": 15,
   "id": "progressive-wilson",
   "metadata": {},
   "outputs": [
    {
     "data": {
      "image/png": "[encoded data removed]",
      "text/plain": [
       "<Figure size 432x288 with 1 Axes>"
      ]
     },
     "metadata": {
      "needs_background": "light"
     },
     "output_type": "display_data"
    }
   ],
   "source": [
    "fig = plt.figure()\n",
    "ax = fig.add_subplot(111)\n",
    "ax.set_xlim(12.5, 52.5)\n",
    "ax.set_ylim(-0.5, 6.5)\n",
    "ax.cmap = 'cool'\n",
    "\n",
    "ax.set_xlabel('Channel Coordinates (Å)', fontsize=12)\n",
    "ax.set_ylabel('Pore radius (Å)', fontsize=12)\n",
    "\n",
    "#line_1, = plt.plot(x1, y1, label='Pentamer 1')\n",
    "line_2, = plt.plot(x2, y2, label='Pentamer 1')\n",
    "line_3, = plt.plot(x3, y3, label='Pentamer 2')\n",
    "line_4, = plt.plot(x4, y4, label='Pentamer 3')\n",
    "line_5, = plt.plot(x5, y5, label='Pentamer 4')\n",
    "line_6, = plt.plot(x6, y6, label='Pentamer 5')\n",
    "\n",
    "\n",
    "ax.legend(handles=[line_2, line_3, line_4, line_5, line_6], fontsize=10)\n",
    "\n",
    "plt.savefig('HOLE-Leu.png') # bbox_inches=\"tight\")"
   ]
  },
  {
   "cell_type": "markdown",
   "id": "devoted-legend",
   "metadata": {},
   "source": [
    "### Stats"
   ]
  },
  {
   "cell_type": "code",
   "execution_count": 16,
   "id": "impossible-homeless",
   "metadata": {},
   "outputs": [],
   "source": [
    "minimum_radius = (y2.min(), y3.min(), y4.min(), y5.min(), y6.min())"
   ]
  },
  {
   "cell_type": "code",
   "execution_count": 17,
   "id": "sophisticated-helen",
   "metadata": {},
   "outputs": [
    {
     "name": "stdout",
     "output_type": "stream",
     "text": [
      "0.5553899999999999 ± 0.4401291372313358 mean ± std (n = 5)\n"
     ]
    }
   ],
   "source": [
    "print(np.mean(minimum_radius), '±', np.std(minimum_radius), 'mean ± std (n = 5)') # n= 6"
   ]
  },
  {
   "cell_type": "code",
   "execution_count": 18,
   "id": "unique-product",
   "metadata": {},
   "outputs": [
    {
     "name": "stdout",
     "output_type": "stream",
     "text": [
      "max: 1.3183 min: 0.06821\n"
     ]
    }
   ],
   "source": [
    "print('max:', np.max(minimum_radius), 'min:', np.min(minimum_radius))"
   ]
  },
  {
   "cell_type": "code",
   "execution_count": 19,
   "id": "veterinary-midnight",
   "metadata": {},
   "outputs": [
    {
     "data": {
      "text/plain": [
       "(0.06821, 0.67016, 0.18726, 1.3183, 0.53302)"
      ]
     },
     "execution_count": 19,
     "metadata": {},
     "output_type": "execute_result"
    }
   ],
   "source": [
    "minimum_radius"
   ]
  },
  {
   "cell_type": "code",
   "execution_count": null,
   "id": "economic-packing",
   "metadata": {},
   "outputs": [],
   "source": []
  }
 ],
 "metadata": {
  "kernelspec": {
   "display_name": "Python 3",
   "language": "python",
   "name": "python3"
  },
  "language_info": {
   "codemirror_mode": {
    "name": "ipython",
    "version": 3
   },
   "file_extension": ".py",
   "mimetype": "text/x-python",
   "name": "python",
   "nbconvert_exporter": "python",
   "pygments_lexer": "ipython3",
   "version": "3.7.9"
  }
 },
 "nbformat": 4,
 "nbformat_minor": 5
}
