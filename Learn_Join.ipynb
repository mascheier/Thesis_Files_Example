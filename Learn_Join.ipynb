{
 "cells": [
  {
   "cell_type": "markdown",
   "id": "native-honolulu",
   "metadata": {},
   "source": [
    "### Imports"
   ]
  },
  {
   "cell_type": "code",
   "execution_count": 1,
   "id": "matched-variety",
   "metadata": {},
   "outputs": [],
   "source": [
    "import mdtraj as md\n",
    "import pandas as pd\n",
    "import numpy as np\n",
    "import matplotlib.pyplot as plt\n",
    "%matplotlib inline"
   ]
  },
  {
   "cell_type": "markdown",
   "id": "aerial-circle",
   "metadata": {},
   "source": [
    "### Data In"
   ]
  },
  {
   "cell_type": "markdown",
   "id": "related-happiness",
   "metadata": {},
   "source": [
    "#### trajectories"
   ]
  },
  {
   "cell_type": "code",
   "execution_count": 2,
   "id": "applicable-tribune",
   "metadata": {},
   "outputs": [],
   "source": [
    "# Load the protein only trajectory\n",
    "traj_1 = md.load_dcd(\"ion_output_restraint.dcd\", top='Start_Ion.pdb')"
   ]
  },
  {
   "cell_type": "code",
   "execution_count": 3,
   "id": "surrounded-bruce",
   "metadata": {},
   "outputs": [],
   "source": [
    "# Load the protein only trajectory\n",
    "traj_2 = md.load_dcd(\"ion_output_0.dcd\", top='Start_Ion.pdb')"
   ]
  },
  {
   "cell_type": "markdown",
   "id": "alpine-endorsement",
   "metadata": {},
   "source": [
    "### Joins"
   ]
  },
  {
   "cell_type": "code",
   "execution_count": 4,
   "id": "constant-pizza",
   "metadata": {},
   "outputs": [],
   "source": [
    "# https://mdtraj.org/1.9.4/api/generated/mdtraj.join.html"
   ]
  },
  {
   "cell_type": "code",
   "execution_count": 5,
   "id": "above-breakdown",
   "metadata": {},
   "outputs": [],
   "source": [
    "joined_traj = md.join((traj_1, traj_2), discard_overlapping_frames=True)"
   ]
  },
  {
   "cell_type": "code",
   "execution_count": 6,
   "id": "satisfactory-mailman",
   "metadata": {},
   "outputs": [],
   "source": [
    "# Save out protein ion traj\n",
    "joined_traj.save_dcd(\"ion_joined_output_0.dcd\")"
   ]
  },
  {
   "cell_type": "code",
   "execution_count": null,
   "id": "played-butterfly",
   "metadata": {},
   "outputs": [],
   "source": []
  }
 ],
 "metadata": {
  "kernelspec": {
   "display_name": "Python 3",
   "language": "python",
   "name": "python3"
  },
  "language_info": {
   "codemirror_mode": {
    "name": "ipython",
    "version": 3
   },
   "file_extension": ".py",
   "mimetype": "text/x-python",
   "name": "python",
   "nbconvert_exporter": "python",
   "pygments_lexer": "ipython3",
   "version": "3.7.9"
  }
 },
 "nbformat": 4,
 "nbformat_minor": 5
}
