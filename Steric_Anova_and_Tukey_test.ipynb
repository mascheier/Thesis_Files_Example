{
 "cells": [
  {
   "cell_type": "markdown",
   "id": "medium-queensland",
   "metadata": {},
   "source": [
    "## Imports"
   ]
  },
  {
   "cell_type": "code",
   "execution_count": 15,
   "id": "geographic-interim",
   "metadata": {},
   "outputs": [],
   "source": [
    "from scipy import stats\n",
    "from statsmodels.stats.multicomp import pairwise_tukeyhsd\n",
    "\n",
    "import numpy as np"
   ]
  },
  {
   "cell_type": "markdown",
   "id": "derived-vancouver",
   "metadata": {},
   "source": [
    "## Data In"
   ]
  },
  {
   "cell_type": "code",
   "execution_count": 2,
   "id": "separate-component",
   "metadata": {},
   "outputs": [],
   "source": [
    "# Wild-type:\n",
    "Gly = [4.846923076923075, 4.8646153846153855, 5.070769230769232, 3.9461538461538455]\n",
    "\n",
    "# Alanine\n",
    "Ala = [4.076153846153845, 3.4984615384615387, 3.6553846153846137, 4.966923076923075]\n",
    "\n",
    "# Valine\n",
    "Val = [5.266153846153844, 3.6800000000000006, 5.9307692307692275, 5.21076923076923]\n",
    "\n",
    "#Leucine\n",
    "Leu = [19.80846153846153, 24.199230769230773, 22.115384615384606, 25.54384615384615]\n"
   ]
  },
  {
   "cell_type": "markdown",
   "id": "least-madrid",
   "metadata": {},
   "source": [
    "## One-way Anova"
   ]
  },
  {
   "cell_type": "code",
   "execution_count": 3,
   "id": "finished-queen",
   "metadata": {},
   "outputs": [],
   "source": [
    "# One-way Anova\n",
    "F_statistic, p_value = stats.f_oneway(Gly, Ala, Val)\n"
   ]
  },
  {
   "cell_type": "code",
   "execution_count": 4,
   "id": "european-triumph",
   "metadata": {},
   "outputs": [
    {
     "name": "stdout",
     "output_type": "stream",
     "text": [
      "1.8366413544254634 0.2143335903726101\n"
     ]
    }
   ],
   "source": [
    "# Gly, Ala, Val\n",
    "print(F_statistic, p_value)"
   ]
  },
  {
   "cell_type": "markdown",
   "id": "rising-iraqi",
   "metadata": {},
   "source": [
    "## All four"
   ]
  },
  {
   "cell_type": "code",
   "execution_count": 5,
   "id": "twenty-warrior",
   "metadata": {},
   "outputs": [],
   "source": [
    "# One-way Anova\n",
    "F_statistic, p_value = stats.f_oneway(Gly, Ala, Val, Leu)\n"
   ]
  },
  {
   "cell_type": "code",
   "execution_count": 6,
   "id": "dependent-budapest",
   "metadata": {
    "scrolled": true
   },
   "outputs": [
    {
     "name": "stdout",
     "output_type": "stream",
     "text": [
      "171.02242758800753 4.137677793591768e-10\n"
     ]
    }
   ],
   "source": [
    "# With Leucine\n",
    "print(F_statistic, p_value)"
   ]
  },
  {
   "cell_type": "markdown",
   "id": "grand-melbourne",
   "metadata": {},
   "source": [
    "## Tukey Test"
   ]
  },
  {
   "cell_type": "code",
   "execution_count": 7,
   "id": "revolutionary-toddler",
   "metadata": {},
   "outputs": [],
   "source": [
    "# Data in\n",
    "data_1d = [4.846923076923075, 4.8646153846153855, 5.070769230769232, 3.9461538461538455, 4.076153846153845, 3.4984615384615387, 3.6553846153846137, 4.966923076923075, 5.266153846153844, 3.6800000000000006, 5.9307692307692275, 5.21076923076923, 19.80846153846153, 24.199230769230773, 22.115384615384606, 25.54384615384615]\n",
    "\n",
    "group_1d = ['Gly','Gly', 'Gly', 'Gly', 'Ala', 'Ala', 'Ala', 'Ala', 'Val', 'Val', 'Val', 'Val', 'Leu', 'Leu', 'Leu', 'Leu']\n"
   ]
  },
  {
   "cell_type": "code",
   "execution_count": 17,
   "id": "broad-mixture",
   "metadata": {},
   "outputs": [
    {
     "name": "stdout",
     "output_type": "stream",
     "text": [
      "Multiple Comparison of Means - Tukey HSD,FWER=0.05\n",
      "===============================================\n",
      "group1 group2 meandiff  lower    upper   reject\n",
      "-----------------------------------------------\n",
      " Ala    Gly    0.6329  -2.3132   3.5789  False \n",
      " Ala    Leu   18.8675  15.9214  21.8136   True \n",
      " Ala    Val    0.9727  -1.9734   3.9188  False \n",
      " Gly    Leu   18.2346  15.2886  21.1807   True \n",
      " Gly    Val    0.3398  -2.6063   3.2859  False \n",
      " Leu    Val   -17.8948 -20.8409 -14.9487  True \n",
      "-----------------------------------------------\n"
     ]
    }
   ],
   "source": [
    "tt = pairwise_tukeyhsd(data_1d, group_1d, alpha = 0.05)\n",
    "print(tt)"
   ]
  },
  {
   "cell_type": "code",
   "execution_count": 18,
   "id": "unnecessary-patient",
   "metadata": {},
   "outputs": [
    {
     "ename": "AttributeError",
     "evalue": "'TukeyHSDResults' object has no attribute 'res'",
     "output_type": "error",
     "traceback": [
      "\u001b[0;31m---------------------------------------------------------------------------\u001b[0m",
      "\u001b[0;31mAttributeError\u001b[0m                            Traceback (most recent call last)",
      "\u001b[0;32m<ipython-input-18-a3f41ca3823b>\u001b[0m in \u001b[0;36m<module>\u001b[0;34m\u001b[0m\n\u001b[1;32m      1\u001b[0m \u001b[0;32mfrom\u001b[0m \u001b[0mstatsmodels\u001b[0m\u001b[0;34m.\u001b[0m\u001b[0mstats\u001b[0m\u001b[0;34m.\u001b[0m\u001b[0mlibqsturng\u001b[0m \u001b[0;32mimport\u001b[0m \u001b[0mpsturng\u001b[0m\u001b[0;34m\u001b[0m\u001b[0;34m\u001b[0m\u001b[0m\n\u001b[0;32m----> 2\u001b[0;31m \u001b[0mst_range\u001b[0m \u001b[0;34m=\u001b[0m \u001b[0mnp\u001b[0m\u001b[0;34m.\u001b[0m\u001b[0mabs\u001b[0m\u001b[0;34m(\u001b[0m\u001b[0mtt\u001b[0m\u001b[0;34m.\u001b[0m\u001b[0mres\u001b[0m\u001b[0;34m.\u001b[0m\u001b[0mmeandiffs\u001b[0m\u001b[0;34m)\u001b[0m \u001b[0;34m/\u001b[0m \u001b[0mtt\u001b[0m\u001b[0;34m.\u001b[0m\u001b[0mres\u001b[0m\u001b[0;34m.\u001b[0m\u001b[0mstd_pairs\u001b[0m\u001b[0;34m\u001b[0m\u001b[0;34m\u001b[0m\u001b[0m\n\u001b[0m\u001b[1;32m      3\u001b[0m \u001b[0mpsturng\u001b[0m\u001b[0;34m(\u001b[0m\u001b[0mst_range\u001b[0m\u001b[0;34m,\u001b[0m \u001b[0mlen\u001b[0m\u001b[0;34m(\u001b[0m\u001b[0mtt\u001b[0m\u001b[0;34m.\u001b[0m\u001b[0mres\u001b[0m\u001b[0;34m.\u001b[0m\u001b[0mgroupsunique\u001b[0m\u001b[0;34m)\u001b[0m\u001b[0;34m,\u001b[0m \u001b[0mtt\u001b[0m\u001b[0;34m.\u001b[0m\u001b[0mres\u001b[0m\u001b[0;34m.\u001b[0m\u001b[0mdf_total\u001b[0m\u001b[0;34m)\u001b[0m\u001b[0;34m\u001b[0m\u001b[0;34m\u001b[0m\u001b[0m\n\u001b[1;32m      4\u001b[0m \u001b[0;31m#array([ 0.01054871,  0.10790278,  0.54980308])\u001b[0m\u001b[0;34m\u001b[0m\u001b[0;34m\u001b[0m\u001b[0;34m\u001b[0m\u001b[0m\n",
      "\u001b[0;31mAttributeError\u001b[0m: 'TukeyHSDResults' object has no attribute 'res'"
     ]
    }
   ],
   "source": [
    "from statsmodels.stats.libqsturng import psturng\n",
    "st_range = np.abs(tt.res.meandiffs) / tt.res.std_pairs\n",
    "psturng(st_range, len(tt.res.groupsunique), tt.res.df_total)\n",
    "#array([ 0.01054871,  0.10790278,  0.54980308])"
   ]
  },
  {
   "cell_type": "code",
   "execution_count": null,
   "id": "final-person",
   "metadata": {},
   "outputs": [],
   "source": []
  }
 ],
 "metadata": {
  "kernelspec": {
   "display_name": "Python 3",
   "language": "python",
   "name": "python3"
  },
  "language_info": {
   "codemirror_mode": {
    "name": "ipython",
    "version": 3
   },
   "file_extension": ".py",
   "mimetype": "text/x-python",
   "name": "python",
   "nbconvert_exporter": "python",
   "pygments_lexer": "ipython3",
   "version": "3.7.9"
  }
 },
 "nbformat": 4,
 "nbformat_minor": 5
}
