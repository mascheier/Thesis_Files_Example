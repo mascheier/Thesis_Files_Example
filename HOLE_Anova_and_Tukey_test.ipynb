{
 "cells": [
  {
   "cell_type": "markdown",
   "id": "medium-queensland",
   "metadata": {},
   "source": [
    "## Imports"
   ]
  },
  {
   "cell_type": "code",
   "execution_count": 1,
   "id": "geographic-interim",
   "metadata": {},
   "outputs": [],
   "source": [
    "from scipy import stats\n",
    "from statsmodels.stats.multicomp import pairwise_tukeyhsd\n",
    "\n",
    "import numpy as np"
   ]
  },
  {
   "cell_type": "markdown",
   "id": "derived-vancouver",
   "metadata": {},
   "source": [
    "## Data In"
   ]
  },
  {
   "cell_type": "code",
   "execution_count": 2,
   "id": "separate-component",
   "metadata": {},
   "outputs": [],
   "source": [
    "# Wild-type:\n",
    "Gly = [0.60165, 0.24825, 0.29158, 0.52207, 0.22795]\n",
    "\n",
    "# Alanine\n",
    "Ala = [1.20999, 0.02696, 0.63114, 0.33497, 0.82314]\n",
    "\n",
    "# Valine\n",
    "Val = [0.50843, 0.30755, 1.27296, 1.18822, 0.52779]\n",
    "\n",
    "#Leucine\n",
    "Leu = [0.06821, 0.67016, 0.18726, 1.3183, 0.53302]\n"
   ]
  },
  {
   "cell_type": "markdown",
   "id": "least-madrid",
   "metadata": {},
   "source": [
    "## One-way Anova"
   ]
  },
  {
   "cell_type": "code",
   "execution_count": 3,
   "id": "finished-queen",
   "metadata": {},
   "outputs": [],
   "source": [
    "# One-way Anova\n",
    "F_statistic, p_value = stats.f_oneway(Gly, Ala, Val)\n"
   ]
  },
  {
   "cell_type": "code",
   "execution_count": 4,
   "id": "european-triumph",
   "metadata": {},
   "outputs": [
    {
     "name": "stdout",
     "output_type": "stream",
     "text": [
      "1.3015096113750233 0.3079154884669463\n"
     ]
    }
   ],
   "source": [
    "# Gly, Ala, Val\n",
    "print(F_statistic, p_value)"
   ]
  },
  {
   "cell_type": "markdown",
   "id": "rising-iraqi",
   "metadata": {},
   "source": [
    "## All four"
   ]
  },
  {
   "cell_type": "code",
   "execution_count": 5,
   "id": "twenty-warrior",
   "metadata": {},
   "outputs": [],
   "source": [
    "# One-way Anova\n",
    "F_statistic, p_value = stats.f_oneway(Gly, Ala, Val, Leu)\n"
   ]
  },
  {
   "cell_type": "code",
   "execution_count": 6,
   "id": "dependent-budapest",
   "metadata": {
    "scrolled": true
   },
   "outputs": [
    {
     "name": "stdout",
     "output_type": "stream",
     "text": [
      "0.7432470069144977 0.541798142920612\n"
     ]
    }
   ],
   "source": [
    "# With Leucine\n",
    "print(F_statistic, p_value)"
   ]
  },
  {
   "cell_type": "markdown",
   "id": "grand-melbourne",
   "metadata": {},
   "source": [
    "## Tukey Test\n",
    "### Not required Anova Hypothesis not passed"
   ]
  },
  {
   "cell_type": "code",
   "execution_count": 7,
   "id": "revolutionary-toddler",
   "metadata": {},
   "outputs": [],
   "source": [
    "# Data in\n",
    "data_1d = [0.60165, 0.24825, 0.29158, 0.52207, 0.22795, 1.20999, 0.02696, 0.63114, 0.33497, 0.82314, 0.50843, 0.30755, 1.27296, 1.18822, 0.52779, 0.06821, 0.67016, 0.18726, 1.3183, 0.53302]\n",
    "\n",
    "group_1d = ['Gly','Gly', 'Gly', 'Gly', 'Gly', 'Ala', 'Ala', 'Ala', 'Ala', 'Ala', 'Val', 'Val', 'Val', 'Val', 'Val', 'Leu', 'Leu', 'Leu', 'Leu', 'Leu']\n"
   ]
  },
  {
   "cell_type": "code",
   "execution_count": 8,
   "id": "broad-mixture",
   "metadata": {},
   "outputs": [
    {
     "name": "stdout",
     "output_type": "stream",
     "text": [
      "Multiple Comparison of Means - Tukey HSD,FWER=0.05\n",
      "============================================\n",
      "group1 group2 meandiff  lower  upper  reject\n",
      "--------------------------------------------\n",
      " Ala    Gly   -0.2269   -0.967 0.5131 False \n",
      " Ala    Leu   -0.0499  -0.7899 0.6902 False \n",
      " Ala    Val    0.1558  -0.5843 0.8958 False \n",
      " Gly    Leu    0.1771   -0.563 0.9171 False \n",
      " Gly    Val    0.3827  -0.3574 1.1227 False \n",
      " Leu    Val    0.2056  -0.5344 0.9456 False \n",
      "--------------------------------------------\n"
     ]
    }
   ],
   "source": [
    "tt = pairwise_tukeyhsd(data_1d, group_1d, alpha = 0.05)\n",
    "print(tt)"
   ]
  },
  {
   "cell_type": "code",
   "execution_count": null,
   "id": "final-person",
   "metadata": {},
   "outputs": [],
   "source": []
  }
 ],
 "metadata": {
  "kernelspec": {
   "display_name": "Python 3",
   "language": "python",
   "name": "python3"
  },
  "language_info": {
   "codemirror_mode": {
    "name": "ipython",
    "version": 3
   },
   "file_extension": ".py",
   "mimetype": "text/x-python",
   "name": "python",
   "nbconvert_exporter": "python",
   "pygments_lexer": "ipython3",
   "version": "3.7.9"
  }
 },
 "nbformat": 4,
 "nbformat_minor": 5
}
