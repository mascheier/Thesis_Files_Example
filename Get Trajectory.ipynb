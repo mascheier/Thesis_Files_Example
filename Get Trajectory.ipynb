{
 "cells": [
  {
   "cell_type": "markdown",
   "id": "thick-teaching",
   "metadata": {},
   "source": [
    "# Imports"
   ]
  },
  {
   "cell_type": "code",
   "execution_count": 1,
   "id": "instructional-compatibility",
   "metadata": {},
   "outputs": [],
   "source": [
    "import mdtraj as md\n",
    "import pandas as pd\n",
    "import numpy as np\n",
    "import subprocess\n",
    "import matplotlib.pyplot as plt\n",
    "%matplotlib inline"
   ]
  },
  {
   "cell_type": "markdown",
   "id": "dimensional-henry",
   "metadata": {},
   "source": [
    "# Data In"
   ]
  },
  {
   "cell_type": "code",
   "execution_count": 2,
   "id": "judicial-sperm",
   "metadata": {},
   "outputs": [],
   "source": [
    "# Specify the folder in which the input files are\n",
    "simulation_name = \"simulation_0\""
   ]
  },
  {
   "cell_type": "code",
   "execution_count": 3,
   "id": "fewer-trademark",
   "metadata": {},
   "outputs": [],
   "source": [
    "# Load the protein only trajectory\n",
    "traj = md.load_dcd((simulation_name + \"/\" + \"output_0.dcd\"), top='RAMPL10_ion.prmtop')"
   ]
  },
  {
   "cell_type": "markdown",
   "id": "joint-breathing",
   "metadata": {},
   "source": [
    "## Protein Selection"
   ]
  },
  {
   "cell_type": "code",
   "execution_count": 4,
   "id": "concrete-apparel",
   "metadata": {},
   "outputs": [],
   "source": [
    "# selecting protein as index\n",
    "protein_ion_selection = traj.topology.select('not water')"
   ]
  },
  {
   "cell_type": "code",
   "execution_count": 5,
   "id": "developed-serve",
   "metadata": {},
   "outputs": [],
   "source": [
    "# Applying index selection to trajectory\n",
    "traj_protein_ion_selection = traj.atom_slice(protein_ion_selection)"
   ]
  },
  {
   "cell_type": "code",
   "execution_count": 6,
   "id": "proof-lucas",
   "metadata": {},
   "outputs": [],
   "source": [
    "# Save out protein traj\n",
    "traj_protein_ion_selection.save_dcd(\"ion_output_0.dcd\")"
   ]
  },
  {
   "cell_type": "code",
   "execution_count": null,
   "id": "working-syndrome",
   "metadata": {},
   "outputs": [],
   "source": []
  }
 ],
 "metadata": {
  "kernelspec": {
   "display_name": "Python 3",
   "language": "python",
   "name": "python3"
  },
  "language_info": {
   "codemirror_mode": {
    "name": "ipython",
    "version": 3
   },
   "file_extension": ".py",
   "mimetype": "text/x-python",
   "name": "python",
   "nbconvert_exporter": "python",
   "pygments_lexer": "ipython3",
   "version": "3.7.9"
  }
 },
 "nbformat": 4,
 "nbformat_minor": 5
}
